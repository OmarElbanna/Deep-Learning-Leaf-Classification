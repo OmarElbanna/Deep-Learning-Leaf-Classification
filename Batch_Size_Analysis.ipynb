{
 "cells": [
  {
   "cell_type": "code",
   "execution_count": 1,
   "id": "0fd27198",
   "metadata": {},
   "outputs": [],
   "source": [
    "from Dataset_Loader import load_leafs_dataset\n",
    "from Training import train_cnn\n",
    "from Model_Evaluation import evaluate_model_with_outputs\n",
    "import matplotlib.pyplot as plt\n",
    "import cv2\n",
    "from torch import nn, optim, flatten, manual_seed\n",
    "from Util import apply_conv, apply_pool"
   ]
  },
  {
   "cell_type": "code",
   "execution_count": 2,
   "id": "23f34c42",
   "metadata": {},
   "outputs": [],
   "source": [
    "class CNN(nn.Module):\n",
    "    def __init__(self):\n",
    "        super().__init__()\n",
    "        width = 1633\n",
    "        height = 1089\n",
    "        self.pool1, width, height = apply_pool(width, height, kernel_size=2, stride=2)\n",
    "        self.pool2, width, height = apply_pool(width, height, kernel_size=2, stride=2)\n",
    "        self.pool3, width, height = apply_pool(width, height, kernel_size=2, stride=2)\n",
    "    \n",
    "        self.conv1, width, height = apply_conv(width, height, 1, 6, kernel_size=3, stride=1, padding=0)\n",
    "        self.pool4, width, height = apply_pool(width, height, kernel_size=2, stride=2)\n",
    "\n",
    "        self.conv2, width, height = apply_conv(width, height, 6, 16, kernel_size=3, stride=1, padding=0)\n",
    "        self.pool5, width, height = apply_pool(width, height, kernel_size=2, stride=2)\n",
    "\n",
    "        self.fc1 = nn.Linear(16*width*height, 1000)\n",
    "        self.dropout1 = nn.Dropout(0.3)\n",
    "        self.fc2 = nn.Linear(1000, 99)\n",
    "        self.dropout2 = nn.Dropout(0.3)\n",
    "\n",
    "    def forward(self, x):\n",
    "        x = self.pool1(x)\n",
    "        x = self.pool2(x)\n",
    "        x = self.pool3(x)\n",
    "\n",
    "        x = nn.functional.relu(self.conv1(x))\n",
    "        x = self.pool4(x)\n",
    "\n",
    "        x = nn.functional.relu(self.conv2(x))\n",
    "        x = self.pool5(x)\n",
    "\n",
    "        x = flatten(x, 1)\n",
    "        x = self.dropout1(nn.functional.relu(self.fc1(x)))\n",
    "        x = nn.functional.log_softmax(self.dropout2(self.fc2(x)), dim=1)\n",
    "        return x"
   ]
  },
  {
   "cell_type": "code",
   "execution_count": 3,
   "id": "04a83eb8",
   "metadata": {},
   "outputs": [
    {
     "name": "stdout",
     "output_type": "stream",
     "text": [
      "Reading CSV: 0.03 seconds\n",
      "Encoding Labels: 0.0 seconds\n",
      "Resizing Images: 2.451 seconds\n",
      "Splitting Data: 0.301 seconds\n",
      "Converting To Tensor: 0.966 seconds\n",
      "Dividing To Batches: 0.0 seconds\n"
     ]
    }
   ],
   "source": [
    "images_train, images_test, labels_train, labels_test = load_leafs_dataset(\n",
    "    0.2,\n",
    "    32)"
   ]
  },
  {
   "cell_type": "code",
   "execution_count": 4,
   "id": "a56aff3d",
   "metadata": {},
   "outputs": [
    {
     "name": "stdout",
     "output_type": "stream",
     "text": [
      "Epoch: 0 / loss: 165.222900390625\n",
      "Epoch: 1 / loss: 16.595352172851562\n",
      "Epoch: 2 / loss: 6.448267459869385\n",
      "Epoch: 3 / loss: 2.8131775856018066\n",
      "Epoch: 4 / loss: 2.2201662063598633\n",
      "Epoch: 5 / loss: 0.8288147449493408\n",
      "Epoch: 6 / loss: 1.6608128547668457\n",
      "Epoch: 7 / loss: 1.689224123954773\n",
      "Epoch: 8 / loss: 1.6986103057861328\n",
      "Epoch: 9 / loss: 1.3527268171310425\n"
     ]
    }
   ],
   "source": [
    "manual_seed(1)\n",
    "model = CNN()\n",
    "optimizer = optim.Adam(model.parameters(), 0.001)\n",
    "epochs = 10\n",
    "trained_model, train_losses = train_cnn(\n",
    "    model=model,\n",
    "    input_tensor=images_train,\n",
    "    output_tensor=labels_train,\n",
    "    epochs=epochs,\n",
    "    batch_size=8,\n",
    "    lossFunction=nn.CrossEntropyLoss(),\n",
    "    optimizer=optimizer,\n",
    "    print_loss=True\n",
    "    )"
   ]
  },
  {
   "cell_type": "code",
   "execution_count": 5,
   "id": "73847ce5",
   "metadata": {},
   "outputs": [
    {
     "data": {
      "image/png": "[encoded data removed]",
      "text/plain": [
       "<Figure size 432x288 with 1 Axes>"
      ]
     },
     "metadata": {
      "needs_background": "light"
     },
     "output_type": "display_data"
    },
    {
     "name": "stdout",
     "output_type": "stream",
     "text": [
      "0 Model Accuracy: 195.37%\n"
     ]
    },
    {
     "ename": "TypeError",
     "evalue": "unsupported operand type(s) for *: 'NoneType' and 'int'",
     "output_type": "error",
     "traceback": [
      "\u001b[1;31m---------------------------------------------------------------------------\u001b[0m",
      "\u001b[1;31mTypeError\u001b[0m                                 Traceback (most recent call last)",
      "Input \u001b[1;32mIn [5]\u001b[0m, in \u001b[0;36m<cell line: 2>\u001b[1;34m()\u001b[0m\n\u001b[0;32m      1\u001b[0m train_accuracy \u001b[38;5;241m=\u001b[39m evaluate_model_with_outputs(model, images_train, labels_train, \u001b[38;5;241m8\u001b[39m, \u001b[38;5;241m0\u001b[39m)\n\u001b[1;32m----> 2\u001b[0m \u001b[38;5;28mprint\u001b[39m(\u001b[38;5;124mf\u001b[39m\u001b[38;5;124m\"\u001b[39m\u001b[38;5;124mTraining Accuracy: \u001b[39m\u001b[38;5;132;01m{\u001b[39;00mtrain_accuracy \u001b[38;5;241m*\u001b[39m \u001b[38;5;241m100\u001b[39m\u001b[38;5;132;01m:\u001b[39;00m\u001b[38;5;124m.2f\u001b[39m\u001b[38;5;132;01m}\u001b[39;00m\u001b[38;5;124m%\u001b[39m\u001b[38;5;124m\"\u001b[39m)\n\u001b[0;32m      3\u001b[0m test_accuracy \u001b[38;5;241m=\u001b[39m evaluate_model_with_outputs(model, images_test, labels_test, \u001b[38;5;241m8\u001b[39m, \u001b[38;5;241m1\u001b[39m)\n\u001b[0;32m      4\u001b[0m \u001b[38;5;28mprint\u001b[39m(\u001b[38;5;124mf\u001b[39m\u001b[38;5;124m\"\u001b[39m\u001b[38;5;124mTesting Accuracy: \u001b[39m\u001b[38;5;132;01m{\u001b[39;00mtest_accuracy \u001b[38;5;241m*\u001b[39m \u001b[38;5;241m100\u001b[39m\u001b[38;5;132;01m:\u001b[39;00m\u001b[38;5;124m.2f\u001b[39m\u001b[38;5;132;01m}\u001b[39;00m\u001b[38;5;124m%\u001b[39m\u001b[38;5;124m\"\u001b[39m)\n",
      "\u001b[1;31mTypeError\u001b[0m: unsupported operand type(s) for *: 'NoneType' and 'int'"
     ]
    }
   ],
   "source": [
    "train_accuracy = evaluate_model_with_outputs(model, images_train, labels_train, 8, 0)\n",
    "print(f\"Training Accuracy: {train_accuracy * 100:.2f}%\")\n",
    "test_accuracy = evaluate_model_with_outputs(model, images_test, labels_test, 8, 1)\n",
    "print(f\"Testing Accuracy: {test_accuracy * 100:.2f}%\")"
   ]
  },
  {
   "cell_type": "code",
   "execution_count": null,
   "id": "a0f131c4",
   "metadata": {},
   "outputs": [],
   "source": []
  }
 ],
 "metadata": {
  "kernelspec": {
   "display_name": "Python 3 (ipykernel)",
   "language": "python",
   "name": "python3"
  },
  "language_info": {
   "codemirror_mode": {
    "name": "ipython",
    "version": 3
   },
   "file_extension": ".py",
   "mimetype": "text/x-python",
   "name": "python",
   "nbconvert_exporter": "python",
   "pygments_lexer": "ipython3",
   "version": "3.10.2"
  }
 },
 "nbformat": 4,
 "nbformat_minor": 5
}
