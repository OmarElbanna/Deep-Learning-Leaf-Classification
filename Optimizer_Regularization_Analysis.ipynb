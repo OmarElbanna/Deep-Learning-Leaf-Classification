{
 "cells": [
  {
   "cell_type": "code",
   "execution_count": 1,
   "metadata": {},
   "outputs": [
    {
     "name": "stderr",
     "output_type": "stream",
     "text": [
      "d:\\Downloads\\Python\\Python39\\lib\\site-packages\\tqdm\\auto.py:21: TqdmWarning: IProgress not found. Please update jupyter and ipywidgets. See https://ipywidgets.readthedocs.io/en/stable/user_install.html\n",
      "  from .autonotebook import tqdm as notebook_tqdm\n"
     ]
    }
   ],
   "source": [
    "from Dataset_Loader import load_leafs_dataset\n",
    "from Training import train_cnn\n",
    "from Model_Evaluation import evaluate_model_with_outputs\n",
    "\n",
    "from torch import nn, optim, manual_seed, flatten\n",
    "from Util import apply_conv, apply_pool\n",
    "import matplotlib.pyplot as plt\n",
    "from time import time"
   ]
  },
  {
   "cell_type": "code",
   "execution_count": 2,
   "metadata": {},
   "outputs": [
    {
     "name": "stdout",
     "output_type": "stream",
     "text": [
      "Reading CSV: 0.253 seconds\n",
      "Encoding Labels: 0.083 seconds\n",
      "Resizing Images: 8.161 seconds\n",
      "Splitting Data: 0.73 seconds\n",
      "Converting To Tensor: 23.752 seconds\n",
      "Dividing To Batches: 0.286 seconds\n"
     ]
    }
   ],
   "source": [
    "batch_size = 20\n",
    "test_split_size = 0.2\n",
    "\n",
    "images_train, images_test, labels_train, labels_test = load_leafs_dataset(\n",
    "    test_split_size,\n",
    "    batch_size \n",
    ")"
   ]
  },
  {
   "cell_type": "code",
   "execution_count": 3,
   "metadata": {},
   "outputs": [],
   "source": [
    "class CNN(nn.Module):\n",
    "    def __init__(self):\n",
    "        super().__init__()\n",
    "        width = 1633\n",
    "        height = 1089\n",
    "        self.pool1, width, height = apply_pool(width, height, kernel_size=2, stride=2)\n",
    "        self.pool2, width, height = apply_pool(width, height, kernel_size=2, stride=2)\n",
    "        self.pool3, width, height = apply_pool(width, height, kernel_size=2, stride=2)\n",
    "    \n",
    "        self.conv1, width, height = apply_conv(width, height, 1, 6, kernel_size=3, stride=1, padding=1)\n",
    "        self.pool4, width, height = apply_pool(width, height, kernel_size=2, stride=2)\n",
    "\n",
    "        self.conv2, width, height = apply_conv(width, height, 6, 16, kernel_size=3, stride=1, padding=1)\n",
    "        self.pool5, width, height = apply_pool(width, height, kernel_size=2, stride=2)\n",
    "\n",
    "        self.fc1 = nn.Linear(16*width*height, 1000)\n",
    "        self.fc2 = nn.Linear(1000, 99)\n",
    "\n",
    "    def forward(self, x):\n",
    "        x = self.pool1(x)\n",
    "        x = self.pool2(x)\n",
    "        x = self.pool3(x)\n",
    "\n",
    "        x = nn.functional.relu(self.conv1(x))\n",
    "        x = self.pool4(x)\n",
    "\n",
    "        x = nn.functional.relu(self.conv2(x))\n",
    "        x = self.pool5(x)\n",
    "\n",
    "        x = flatten(x, 1)\n",
    "        x = nn.functional.relu(self.fc1(x))\n",
    "        x = nn.functional.log_softmax(self.fc2(x), dim=1)\n",
    "        return x"
   ]
  },
  {
   "cell_type": "markdown",
   "metadata": {},
   "source": [
    "# Optimizer Analysis"
   ]
  },
  {
   "cell_type": "code",
   "execution_count": null,
   "metadata": {},
   "outputs": [],
   "source": [
    "optimizers = [\n",
    "    optim.SGD, optim.Adagrad, optim.RMSprop, optim.Adam\n",
    "]\n",
    "optimizer_names = [\n",
    "    'SGD', 'Adagrad', 'RMSprop', 'Adam'\n",
    "]\n",
    "fig = plt.figure(figsize=(19, 15))\n",
    "\n",
    "for i in range(len(optimizers)):\n",
    "    print(f'Analysing {optimizer_names[i]} Optimizer...')\n",
    "    manual_seed(1)\n",
    "    model = CNN()\n",
    "    optimizer = optimizers[i](model.parameters(), 0.001)\n",
    "    epochs = 10\n",
    "    initial_train_accuracy = evaluate_model_with_outputs(model, images_train, labels_train, batch_size, 0)\n",
    "    initial_test_accuracy = evaluate_model_with_outputs(model, images_test, labels_test, batch_size, 1)\n",
    "\n",
    "    time1 = time()\n",
    "    trained_model, losses_train, accuracies_train, accuracies_test = train_cnn(\n",
    "        model=model,\n",
    "        images_train=images_train,\n",
    "        labels_train=labels_train,\n",
    "        images_test=images_test,\n",
    "        labels_test=labels_test,\n",
    "        epochs=epochs,\n",
    "        batch_size=batch_size,\n",
    "        lossFunction=nn.CrossEntropyLoss(),\n",
    "        optimizer=optimizer,\n",
    "        print_loss=True,\n",
    "        calc_accuracy=True\n",
    "    )\n",
    "    time2 = time()\n",
    "    print(f'Finished in {round(time2 - time1, 3)} seconds')\n",
    "\n",
    "    accuracies_train.insert(0, initial_train_accuracy)\n",
    "    accuracies_test.insert(0, initial_test_accuracy)\n",
    "\n",
    "    rng_x = range(epochs+1)\n",
    "    rng_y = range(0, 100, 5)\n",
    "\n",
    "    ax = fig.add_subplot(221 + i)\n",
    "    ax.set_title(optimizer_names[i])\n",
    "    plt.tight_layout()\n",
    "    plt.plot(rng_x, accuracies_train, label='Training')\n",
    "    plt.plot(rng_x, accuracies_test, label='Testing')\n",
    "    plt.xlabel('Epoch')\n",
    "    plt.xticks(rng_x, rng_x)\n",
    "    plt.ylabel('Accuracy')\n",
    "    plt.yticks(rng_y, rng_y)\n",
    "    plt.grid()\n",
    "    plt.legend()\n",
    "plt.show()"
   ]
  },
  {
   "cell_type": "markdown",
   "metadata": {},
   "source": [
    "# L2 Regularization Coefficient Analysis"
   ]
  },
  {
   "cell_type": "code",
   "execution_count": null,
   "metadata": {},
   "outputs": [],
   "source": [
    "reg_coeffs = [\n",
    "    0, 0.001, 0.01, 0.1, 1\n",
    "]\n",
    "fig = plt.figure(figsize=(19, 15))\n",
    "\n",
    "for i in range(1, len(reg_coeffs)):\n",
    "    print(f'Analysing L2 Regularization Coefficient {reg_coeffs[i]}...')\n",
    "    manual_seed(1)\n",
    "    model = CNN()\n",
    "    epochs = 10\n",
    "    initial_train_accuracy = evaluate_model_with_outputs(model, images_train, labels_train, batch_size, 0)\n",
    "    initial_test_accuracy = evaluate_model_with_outputs(model, images_test, labels_test, batch_size, 1)\n",
    "\n",
    "    time1 = time()\n",
    "    trained_model, losses_train, accuracies_train, accuracies_test = train_cnn(\n",
    "        model=model,\n",
    "        images_train=images_train,\n",
    "        labels_train=labels_train,\n",
    "        images_test=images_test,\n",
    "        labels_test=labels_test,\n",
    "        epochs=epochs,\n",
    "        batch_size=batch_size,\n",
    "        lossFunction=nn.CrossEntropyLoss(),\n",
    "        optimizer=optim.Adam(model.parameters(), 0.001, weight_decay=reg_coeffs[i]),\n",
    "        print_loss=True,\n",
    "        calc_accuracy=True\n",
    "    )\n",
    "    time2 = time()\n",
    "    print(f'Finished in {round(time2 - time1, 3)} seconds')\n",
    "\n",
    "    accuracies_train.insert(0, initial_train_accuracy)\n",
    "    accuracies_test.insert(0, initial_test_accuracy)\n",
    "\n",
    "    rng_x = range(epochs+1)\n",
    "    rng_y = range(0, 100, 5)\n",
    "\n",
    "    ax = fig.add_subplot(231 + i)\n",
    "    ax.set_title(f'Reg Coeff: {reg_coeffs[i]}')\n",
    "    plt.tight_layout()\n",
    "    plt.plot(rng_x, accuracies_train, label='Training')\n",
    "    plt.plot(rng_x, accuracies_test, label='Testing')\n",
    "    plt.xlabel('Epoch')\n",
    "    plt.xticks(rng_x, rng_x)\n",
    "    plt.ylabel('Accuracy')\n",
    "    plt.yticks(rng_y, rng_y)\n",
    "    plt.grid()\n",
    "    plt.legend()    \n",
    "plt.show()"
   ]
  }
 ],
 "metadata": {
  "kernelspec": {
   "display_name": "Python 3",
   "language": "python",
   "name": "python3"
  },
  "language_info": {
   "codemirror_mode": {
    "name": "ipython",
    "version": 3
   },
   "file_extension": ".py",
   "mimetype": "text/x-python",
   "name": "python",
   "nbconvert_exporter": "python",
   "pygments_lexer": "ipython3",
   "version": "3.9.13"
  }
 },
 "nbformat": 4,
 "nbformat_minor": 2
}
