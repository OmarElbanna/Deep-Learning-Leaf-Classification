{
  "nbformat": 4,
  "nbformat_minor": 0,
  "metadata": {
    "colab": {
      "provenance": [],
      "authorship_tag": "ABX9TyNAtdx3r+HbAqGj0jZLZzbD"
    },
    "kernelspec": {
      "name": "python3",
      "display_name": "Python 3"
    },
    "language_info": {
      "name": "python"
    }
  },
  "cells": [
    {
      "cell_type": "code",
      "source": [
        "from Dataset_Loader import load_leafs_dataset\n",
        "from Training import train_cnn\n",
        "from Model_Evaluation import evaluate_model_with_outputs\n",
        "\n",
        "from torch import nn, optim, manual_seed, flatten\n",
        "from Util import apply_conv, apply_pool\n",
        "import matplotlib.pyplot as plt\n",
        "from time import time"
      ],
      "metadata": {
        "id": "YsVOuSVdmqkR"
      },
      "execution_count": null,
      "outputs": []
    },
    {
      "cell_type": "code",
      "source": [
        "batch_size = 20\n",
        "test_split_size = 0.2\n",
        "\n",
        "images_train, images_test, labels_train, labels_test = load_leafs_dataset(\n",
        "    test_split_size,\n",
        "    batch_size\n",
        ")"
      ],
      "metadata": {
        "id": "Z1EvpKDXmx8p"
      },
      "execution_count": null,
      "outputs": []
    },
    {
      "cell_type": "markdown",
      "source": [
        "# Initial Architecture with 9 layers"
      ],
      "metadata": {
        "id": "JhR7cqRgmzON"
      }
    },
    {
      "cell_type": "code",
      "execution_count": null,
      "metadata": {
        "id": "-t9Do1vBlWb6"
      },
      "outputs": [],
      "source": [
        "class CNN(nn.Module):\n",
        "    def __init__(self):\n",
        "        super().__init__()\n",
        "        width = 1633\n",
        "        height = 1089\n",
        "        self.dropout = nn.Dropout(0.2)\n",
        "\n",
        "        self.pool1, width, height = apply_pool(width, height, kernel_size=2, stride=2)\n",
        "        self.pool2, width, height = apply_pool(width, height, kernel_size=2, stride=2)\n",
        "        self.pool3, width, height = apply_pool(width, height, kernel_size=2, stride=2)\n",
        "\n",
        "        self.conv1, width, height = apply_conv(width, height, 1, 8, kernel_size=3, stride=1, padding=1)\n",
        "        self.pool4, width, height = apply_pool(width, height, kernel_size=2, stride=2)\n",
        "\n",
        "        self.conv2, width, height = apply_conv(width, height, 8, 16, kernel_size=3, stride=1, padding=1)\n",
        "        self.pool5, width, height = apply_pool(width, height, kernel_size=2, stride=2)\n",
        "\n",
        "        self.fc1 = nn.Linear(16*width*height, 1000)\n",
        "        self.fc2 = nn.Linear(1000, 99)\n",
        "\n",
        "    def forward(self, x):\n",
        "        x = self.pool1(x)\n",
        "        x = self.pool2(x)\n",
        "        x = self.pool3(x)\n",
        "\n",
        "        x = nn.functional.relu(self.conv1(x))\n",
        "        x = self.pool4(x)\n",
        "\n",
        "        x = nn.functional.relu(self.conv2(x))\n",
        "        x = self.pool5(x)\n",
        "\n",
        "        x = flatten(x, 1)\n",
        "        x = nn.functional.relu(self.fc1(x))\n",
        "        x = nn.functional.log_softmax(self.fc2(x), dim=1)\n",
        "        return x"
      ]
    },
    {
      "cell_type": "markdown",
      "source": [
        "# Architecture with 13 Layers"
      ],
      "metadata": {
        "id": "zgGhtjj-neiM"
      }
    },
    {
      "cell_type": "code",
      "source": [
        "class CNN(nn.Module):\n",
        "    def __init__(self):\n",
        "        super().__init__()\n",
        "        width = 1633\n",
        "        height = 1089\n",
        "        self.dropout = nn.Dropout(0.2)\n",
        "\n",
        "        self.pool1, width, height = apply_pool(width, height, kernel_size=2, stride=2)\n",
        "        self.pool2, width, height = apply_pool(width, height, kernel_size=2, stride=2)\n",
        "        self.pool3, width, height = apply_pool(width, height, kernel_size=2, stride=2)\n",
        "\n",
        "        self.conv1, width, height = apply_conv(width, height, 1, 8, kernel_size=3, stride=1, padding=1)\n",
        "        self.pool4, width, height = apply_pool(width, height, kernel_size=2, stride=2)\n",
        "\n",
        "        self.conv2, width, height = apply_conv(width, height, 8, 16, kernel_size=3, stride=1, padding=1)\n",
        "        self.pool5, width, height = apply_pool(width, height, kernel_size=2, stride=2)\n",
        "\n",
        "        self.conv3, width, height = apply_conv(width, height, 16, 32, kernel_size=3, stride=1, padding=1)\n",
        "        self.pool6, width, height = apply_pool(width, height, kernel_size=2, stride=2)\n",
        "\n",
        "        self.conv4, width, height = apply_conv(width, height, 32, 64, kernel_size=3, stride=1, padding=1)\n",
        "        self.pool7, width, height = apply_pool(width, height, kernel_size=2, stride=2)\n",
        "\n",
        "        self.fc1 = nn.Linear(64*width*height, 1000)\n",
        "        self.fc2 = nn.Linear(1000, 99)\n",
        "\n",
        "    def forward(self, x):\n",
        "        x = self.pool1(x)\n",
        "        x = self.pool2(x)\n",
        "        x = self.pool3(x)\n",
        "\n",
        "        x = nn.functional.relu(self.conv1(x))\n",
        "        x = self.pool4(x)\n",
        "\n",
        "        x = nn.functional.relu(self.conv2(x))\n",
        "        x = self.pool5(x)\n",
        "\n",
        "        x = nn.functional.relu(self.conv3(x))\n",
        "        x = self.pool6(x)\n",
        "\n",
        "        x = nn.functional.relu(self.conv4(x))\n",
        "        x = self.pool7(x)\n",
        "\n",
        "\n",
        "        x = flatten(x, 1)\n",
        "        x = nn.functional.relu(self.fc1(x))\n",
        "        x = nn.functional.log_softmax(self.fc2(x), dim=1)\n",
        "        return x"
      ],
      "metadata": {
        "id": "6lQM_oZYnd3M"
      },
      "execution_count": null,
      "outputs": []
    },
    {
      "cell_type": "markdown",
      "source": [
        "# Architecture with 17 Layers"
      ],
      "metadata": {
        "id": "3RSsr1qen2DR"
      }
    },
    {
      "cell_type": "code",
      "source": [
        "class CNN(nn.Module):\n",
        "    def __init__(self):\n",
        "        super().__init__()\n",
        "        width = 1633\n",
        "        height = 1089\n",
        "        self.dropout = nn.Dropout(0.2)\n",
        "\n",
        "        self.pool1, width, height = apply_pool(width, height, kernel_size=2, stride=2)\n",
        "        self.pool2, width, height = apply_pool(width, height, kernel_size=2, stride=2)\n",
        "        self.pool3, width, height = apply_pool(width, height, kernel_size=2, stride=2)\n",
        "\n",
        "        self.conv1, width, height = apply_conv(width, height, 1, 8, kernel_size=3, stride=1, padding=1)\n",
        "        self.pool4, width, height = apply_pool(width, height, kernel_size=2, stride=2)\n",
        "\n",
        "        self.conv2, width, height = apply_conv(width, height, 8, 16, kernel_size=3, stride=1, padding=1)\n",
        "        self.pool5, width, height = apply_pool(width, height, kernel_size=2, stride=2)\n",
        "\n",
        "        self.conv3, width, height = apply_conv(width, height, 16, 32, kernel_size=3, stride=1, padding=1)\n",
        "        self.pool6, width, height = apply_pool(width, height, kernel_size=2, stride=2)\n",
        "\n",
        "        self.conv4, width, height = apply_conv(width, height, 32, 64, kernel_size=3, stride=1, padding=1)\n",
        "        self.pool7, width, height = apply_pool(width, height, kernel_size=2, stride=2)\n",
        "\n",
        "        self.fc1 = nn.Linear(64*width*height, 1000)\n",
        "        self.fc2 = nn.Linear(1000, 99)\n",
        "\n",
        "    def forward(self, x):\n",
        "        x = self.pool1(x)\n",
        "        x = self.pool2(x)\n",
        "        x = self.pool3(x)\n",
        "\n",
        "        x = nn.functional.relu(self.conv1(x))\n",
        "        x = self.pool4(x)\n",
        "\n",
        "        x = nn.functional.relu(self.conv2(x))\n",
        "        x = self.pool5(x)\n",
        "\n",
        "        x = nn.functional.relu(self.conv3(x))\n",
        "        x = self.pool6(x)\n",
        "\n",
        "        x = nn.functional.relu(self.conv4(x))\n",
        "        x = self.pool7(x)\n",
        "\n",
        "\n",
        "        x = flatten(x, 1)\n",
        "        x = nn.functional.relu(self.fc1(x))\n",
        "        x = nn.functional.log_softmax(self.fc2(x), dim=1)\n",
        "        return x"
      ],
      "metadata": {
        "id": "FrqFMVNTn5s3"
      },
      "execution_count": null,
      "outputs": []
    },
    {
      "cell_type": "markdown",
      "source": [
        "# Model Training"
      ],
      "metadata": {
        "id": "XZeywAT0n77l"
      }
    },
    {
      "cell_type": "code",
      "source": [
        "manual_seed(1)\n",
        "model = CNN()\n",
        "model, losses_train, accuracies_train, accuracies_test = train_cnn(\n",
        "    model=model,\n",
        "    images_train =input_images,\n",
        "    labels_train=output_labels,\n",
        "    images_test = images_test,\n",
        "    labels_test = labels_test,\n",
        "    epochs=10,\n",
        "    batch_size=batch_size,\n",
        "    lossFunction=nn.CrossEntropyLoss(),\n",
        "    optimizer=optim.Adam(model.parameters(), lr=0.0001, weight_decay=0.1),\n",
        "    print_loss=True,\n",
        "    calc_accuracy=True,\n",
        ")"
      ],
      "metadata": {
        "id": "zmrwx_9Unq7O"
      },
      "execution_count": null,
      "outputs": []
    }
  ]
}