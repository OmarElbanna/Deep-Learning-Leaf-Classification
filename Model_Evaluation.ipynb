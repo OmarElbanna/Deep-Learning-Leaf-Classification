{
  "nbformat": 4,
  "nbformat_minor": 0,
  "metadata": {
    "colab": {
      "provenance": [],
      "authorship_tag": "ABX9TyMR9GI4W/O+oqwdaDJ6lVc0"
    },
    "kernelspec": {
      "name": "python3",
      "display_name": "Python 3"
    },
    "language_info": {
      "name": "python"
    }
  },
  "cells": [
    {
      "cell_type": "markdown",
      "source": [
        "# Libraries Imports"
      ],
      "metadata": {
        "id": "oxvcqN9KSC1P"
      }
    },
    {
      "cell_type": "code",
      "source": [
        "import torch\n",
        "import torch.nn as nn\n",
        "from torch.utils.data import DataLoader"
      ],
      "metadata": {
        "id": "bGkDB9b6QIbB"
      },
      "execution_count": 1,
      "outputs": []
    },
    {
      "cell_type": "markdown",
      "source": [
        "# Model Evaluation"
      ],
      "metadata": {
        "id": "ARDlHmrqSLU1"
      }
    },
    {
      "cell_type": "code",
      "execution_count": 4,
      "metadata": {
        "id": "apgATKE9QBPr"
      },
      "outputs": [],
      "source": [
        "def Evaluate_Model(model:object, dataloader:object, criterion:object, evaluation_type:str):\n",
        "    '''\n",
        "  @input:\n",
        "      model: object inherited from torch.nn.Module\n",
        "      dataloader: object from class DataLoader()\n",
        "      criterion: object describing loss criterion inherited from torch.nn.Module\n",
        "      evaluation_type: String with values Training/Testing to be printed\n",
        "\n",
        "  '''\n",
        "\n",
        "    # Set the model to evaluation mode\n",
        "    model.eval()\n",
        "    total_loss = 0.0\n",
        "    correct_predictions = 0\n",
        "    total_samples = 0\n",
        "\n",
        "    with torch.no_grad():\n",
        "        # Unpacking dataloader into input features and targets\n",
        "        for inputs, targets in dataloader:\n",
        "            outputs = model(inputs)\n",
        "            loss = criterion(outputs, targets)\n",
        "            total_loss += loss.item()\n",
        "\n",
        "            # torch.max returns a tuple of 2 elements\n",
        "            # The first tuple is the value of the max between the output & 1\n",
        "            # Which is intentionally ignored\n",
        "            # The second tuple is the index of the max value\n",
        "            _, predicted = torch.max(outputs, 1)\n",
        "            correct_predictions += (predicted == targets).sum().item()\n",
        "            total_samples += targets.size(0)\n",
        "\n",
        "    average_loss = total_loss / len(dataloader)\n",
        "    accuracy = correct_predictions / total_samples\n",
        "\n",
        "    print(f'{evaluation_type} Evaluation Loss: {average_loss:.4f}, Accuracy: {accuracy * 100:.2f}%')"
      ]
    }
  ]
}