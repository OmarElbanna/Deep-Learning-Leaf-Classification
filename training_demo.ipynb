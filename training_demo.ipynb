{
 "cells": [
  {
   "cell_type": "code",
   "execution_count": 1,
   "metadata": {},
   "outputs": [
    {
     "name": "stderr",
     "output_type": "stream",
     "text": [
      "d:\\Downloads\\Python\\Python39\\lib\\site-packages\\tqdm\\auto.py:21: TqdmWarning: IProgress not found. Please update jupyter and ipywidgets. See https://ipywidgets.readthedocs.io/en/stable/user_install.html\n",
      "  from .autonotebook import tqdm as notebook_tqdm\n"
     ]
    }
   ],
   "source": [
    "from Dataset_Loader import load_leafs_dataset\n",
    "from Training import train_cnn\n",
    "import torch"
   ]
  },
  {
   "cell_type": "code",
   "execution_count": 2,
   "metadata": {},
   "outputs": [],
   "source": [
    "images_list, labels_list = load_leafs_dataset(10)"
   ]
  },
  {
   "cell_type": "code",
   "execution_count": 3,
   "metadata": {},
   "outputs": [
    {
     "name": "stdout",
     "output_type": "stream",
     "text": [
      "torch.Size([10, 99, 1089, 1633])\n",
      "torch.Size([10, 1, 99])\n"
     ]
    }
   ],
   "source": [
    "input_images = images_list[:]\n",
    "output_labels = labels_list[:]\n",
    "print(input_images.shape)\n",
    "print(output_labels.shape)"
   ]
  },
  {
   "cell_type": "code",
   "execution_count": 4,
   "metadata": {},
   "outputs": [],
   "source": [
    "class CNN(torch.nn.Module):\n",
    "    def __init__(self):\n",
    "        super().__init__()\n",
    "        self.conv1 = torch.nn.Conv2d(in_channels=99, out_channels=6, kernel_size=3, stride=1, padding=0)\n",
    "        self.conv2 = torch.nn.Conv2d(6, 16, 3, 1)\n",
    "\n",
    "        self.fc1 = torch.nn.Linear(16*49*32, 1000)\n",
    "        self.fc2 = torch.nn.Linear(1000, 99)\n",
    "\n",
    "    def forward(self, x):\n",
    "        x = torch.nn.functional.max_pool2d(x, 2, 2)\n",
    "        x = torch.nn.functional.max_pool2d(x, 2, 2)\n",
    "        x = torch.nn.functional.max_pool2d(x, 2, 2)\n",
    "\n",
    "        x = torch.nn.functional.relu(self.conv1(x))\n",
    "        x = torch.nn.functional.max_pool2d(x, 2, 2)\n",
    "\n",
    "        x = torch.nn.functional.relu(self.conv2(x))\n",
    "        x = torch.nn.functional.max_pool2d(x, 2, 2)\n",
    "\n",
    "        x = x.view(-1, 16*49*32)\n",
    "        x = torch.nn.functional.relu(self.fc1(x))\n",
    "        x = torch.nn.functional.log_softmax(self.fc2(x), dim=1)\n",
    "\n",
    "        return x"
   ]
  },
  {
   "cell_type": "code",
   "execution_count": 5,
   "metadata": {},
   "outputs": [
    {
     "name": "stdout",
     "output_type": "stream",
     "text": [
      "Epoch: 0 / loss: 44369.88671875\n",
      "Epoch: 1 / loss: 24927.248046875\n",
      "Epoch: 2 / loss: 24241.861328125\n",
      "Epoch: 3 / loss: 24039.275390625\n",
      "Epoch: 4 / loss: 23970.140625\n",
      "Epoch: 5 / loss: 23943.181640625\n",
      "Epoch: 6 / loss: 23928.150390625\n",
      "Epoch: 7 / loss: 23914.1015625\n",
      "Epoch: 8 / loss: 23898.572265625\n",
      "Epoch: 9 / loss: 23879.01953125\n"
     ]
    },
    {
     "data": {
      "text/plain": [
       "(CNN(\n",
       "   (conv1): Conv2d(99, 6, kernel_size=(3, 3), stride=(1, 1))\n",
       "   (conv2): Conv2d(6, 16, kernel_size=(3, 3), stride=(1, 1))\n",
       "   (fc1): Linear(in_features=25088, out_features=1000, bias=True)\n",
       "   (fc2): Linear(in_features=1000, out_features=99, bias=True)\n",
       " ),\n",
       " [[array(112559.88, dtype=float32),\n",
       "   array(47160808., dtype=float32),\n",
       "   array(14932157., dtype=float32),\n",
       "   array(340921.53, dtype=float32),\n",
       "   array(292780.9, dtype=float32),\n",
       "   array(100412.04, dtype=float32),\n",
       "   array(119139.984, dtype=float32),\n",
       "   array(111251.62, dtype=float32),\n",
       "   array(73210.664, dtype=float32),\n",
       "   array(44369.887, dtype=float32)],\n",
       "  [array(80382.734, dtype=float32),\n",
       "   array(34900.45, dtype=float32),\n",
       "   array(26393.121, dtype=float32),\n",
       "   array(24256.506, dtype=float32),\n",
       "   array(23333.219, dtype=float32),\n",
       "   array(25742.045, dtype=float32),\n",
       "   array(21501.852, dtype=float32),\n",
       "   array(28283.492, dtype=float32),\n",
       "   array(23929.016, dtype=float32),\n",
       "   array(24927.248, dtype=float32)],\n",
       "  [array(21864.652, dtype=float32),\n",
       "   array(20622.273, dtype=float32),\n",
       "   array(21566.652, dtype=float32),\n",
       "   array(20099.377, dtype=float32),\n",
       "   array(22984.64, dtype=float32),\n",
       "   array(24030.168, dtype=float32),\n",
       "   array(21233.86, dtype=float32),\n",
       "   array(23276.725, dtype=float32),\n",
       "   array(23587.045, dtype=float32),\n",
       "   array(24241.861, dtype=float32)],\n",
       "  [array(21833.596, dtype=float32),\n",
       "   array(20546.227, dtype=float32),\n",
       "   array(21448.334, dtype=float32),\n",
       "   array(20080.777, dtype=float32),\n",
       "   array(22995.943, dtype=float32),\n",
       "   array(23974.951, dtype=float32),\n",
       "   array(21170.426, dtype=float32),\n",
       "   array(22908.297, dtype=float32),\n",
       "   array(23442.213, dtype=float32),\n",
       "   array(24039.275, dtype=float32)],\n",
       "  [array(21812.264, dtype=float32),\n",
       "   array(20547.316, dtype=float32),\n",
       "   array(21432.781, dtype=float32),\n",
       "   array(20097.447, dtype=float32),\n",
       "   array(23000.395, dtype=float32),\n",
       "   array(24000.521, dtype=float32),\n",
       "   array(21161.88, dtype=float32),\n",
       "   array(22833.297, dtype=float32),\n",
       "   array(23365.307, dtype=float32),\n",
       "   array(23970.14, dtype=float32)],\n",
       "  [array(21799.896, dtype=float32),\n",
       "   array(20529.85, dtype=float32),\n",
       "   array(21445.354, dtype=float32),\n",
       "   array(20104.088, dtype=float32),\n",
       "   array(22993.137, dtype=float32),\n",
       "   array(24006.531, dtype=float32),\n",
       "   array(21174.553, dtype=float32),\n",
       "   array(22782.283, dtype=float32),\n",
       "   array(23324.152, dtype=float32),\n",
       "   array(23943.182, dtype=float32)],\n",
       "  [array(21794.111, dtype=float32),\n",
       "   array(20507.484, dtype=float32),\n",
       "   array(21457.043, dtype=float32),\n",
       "   array(20101.807, dtype=float32),\n",
       "   array(22984.807, dtype=float32),\n",
       "   array(24000.938, dtype=float32),\n",
       "   array(21186.117, dtype=float32),\n",
       "   array(22715.074, dtype=float32),\n",
       "   array(23291.326, dtype=float32),\n",
       "   array(23928.15, dtype=float32)],\n",
       "  [array(21790.555, dtype=float32),\n",
       "   array(20493.455, dtype=float32),\n",
       "   array(21462.535, dtype=float32),\n",
       "   array(20097.166, dtype=float32),\n",
       "   array(22980.496, dtype=float32),\n",
       "   array(23995.25, dtype=float32),\n",
       "   array(21191.607, dtype=float32),\n",
       "   array(22614.95, dtype=float32),\n",
       "   array(23257.893, dtype=float32),\n",
       "   array(23914.102, dtype=float32)],\n",
       "  [array(21787.38, dtype=float32),\n",
       "   array(20484.441, dtype=float32),\n",
       "   array(21463.88, dtype=float32),\n",
       "   array(20092.896, dtype=float32),\n",
       "   array(22979.768, dtype=float32),\n",
       "   array(23989.986, dtype=float32),\n",
       "   array(21192.512, dtype=float32),\n",
       "   array(22482.943, dtype=float32),\n",
       "   array(23218.758, dtype=float32),\n",
       "   array(23898.572, dtype=float32)],\n",
       "  [array(21784.309, dtype=float32),\n",
       "   array(20470.67, dtype=float32),\n",
       "   array(21461.064, dtype=float32),\n",
       "   array(20089.406, dtype=float32),\n",
       "   array(22980.756, dtype=float32),\n",
       "   array(23982.438, dtype=float32),\n",
       "   array(21191.441, dtype=float32),\n",
       "   array(22331.11, dtype=float32),\n",
       "   array(23170.61, dtype=float32),\n",
       "   array(23879.02, dtype=float32)]])"
      ]
     },
     "execution_count": 5,
     "metadata": {},
     "output_type": "execute_result"
    }
   ],
   "source": [
    "model = CNN()\n",
    "train_cnn(\n",
    "    model,\n",
    "    input_images,\n",
    "    output_labels,\n",
    "    10,\n",
    "    10,\n",
    "    torch.nn.CrossEntropyLoss(),\n",
    "    torch.optim.Adam(model.parameters(), lr=0.01),\n",
    "    True    \n",
    ")"
   ]
  }
 ],
 "metadata": {
  "kernelspec": {
   "display_name": "Python 3",
   "language": "python",
   "name": "python3"
  },
  "language_info": {
   "codemirror_mode": {
    "name": "ipython",
    "version": 3
   },
   "file_extension": ".py",
   "mimetype": "text/x-python",
   "name": "python",
   "nbconvert_exporter": "python",
   "pygments_lexer": "ipython3",
   "version": "3.9.13"
  }
 },
 "nbformat": 4,
 "nbformat_minor": 2
}
