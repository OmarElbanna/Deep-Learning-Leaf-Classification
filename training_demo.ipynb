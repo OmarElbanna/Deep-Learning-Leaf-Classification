{
 "cells": [
  {
   "cell_type": "code",
   "execution_count": 1,
   "metadata": {},
   "outputs": [
    {
     "name": "stderr",
     "output_type": "stream",
     "text": [
      "d:\\Downloads\\Python\\Python39\\lib\\site-packages\\tqdm\\auto.py:21: TqdmWarning: IProgress not found. Please update jupyter and ipywidgets. See https://ipywidgets.readthedocs.io/en/stable/user_install.html\n",
      "  from .autonotebook import tqdm as notebook_tqdm\n"
     ]
    }
   ],
   "source": [
    "from Dataset_Loader import load_leafs_dataset\n",
    "from Training import train_cnn\n",
    "from torch import nn, optim, manual_seed"
   ]
  },
  {
   "cell_type": "code",
   "execution_count": 2,
   "metadata": {},
   "outputs": [
    {
     "name": "stderr",
     "output_type": "stream",
     "text": [
      "d:\\Faculty of engineering Ainshams university\\5th year university\\Deep\\Project\\Codes\\Dataset_Loader.py:50: UserWarning: Creating a tensor from a list of numpy.ndarrays is extremely slow. Please consider converting the list to a single numpy.ndarray with numpy.array() before converting to a tensor. (Triggered internally at  C:\\actions-runner\\_work\\pytorch\\pytorch\\builder\\windows\\pytorch\\torch\\csrc\\utils\\tensor_new.cpp:204.)\n",
      "  images_train = FloatTensor(images_train)\n"
     ]
    }
   ],
   "source": [
    "batch_size = 20\n",
    "test_split_size = 0.2\n",
    "\n",
    "images_train, images_test, labels_train, labels_test = load_leafs_dataset(\n",
    "    test_split_size,\n",
    "    batch_size \n",
    ")"
   ]
  },
  {
   "cell_type": "code",
   "execution_count": 3,
   "metadata": {},
   "outputs": [],
   "source": [
    "input_images = images_train[:]\n",
    "output_labels = labels_train[:]"
   ]
  },
  {
   "cell_type": "code",
   "execution_count": 4,
   "metadata": {},
   "outputs": [],
   "source": [
    "class CNN(nn.Module):\n",
    "    def __init__(self):\n",
    "        super().__init__()\n",
    "        self.conv1 = nn.Conv2d(in_channels=1, out_channels=6, kernel_size=3, stride=1, padding=0)\n",
    "        self.conv2 = nn.Conv2d(in_channels=6, out_channels=16, kernel_size=3, stride=1)\n",
    "\n",
    "        self.fc1 = nn.Linear(16*49*32, 1000)\n",
    "        self.fc2 = nn.Linear(1000, 99)\n",
    "\n",
    "    def forward(self, x):\n",
    "        x = nn.functional.max_pool2d(x, 2, 2)\n",
    "        x = nn.functional.max_pool2d(x, 2, 2)\n",
    "        x = nn.functional.max_pool2d(x, 2, 2)\n",
    "\n",
    "        x = nn.functional.relu(self.conv1(x))\n",
    "        x = nn.functional.max_pool2d(x, 2, 2)\n",
    "\n",
    "        x = nn.functional.relu(self.conv2(x))\n",
    "        x = nn.functional.max_pool2d(x, 2, 2)\n",
    "\n",
    "        x = x.view(-1, 16*49*32)\n",
    "        x = nn.functional.relu(self.fc1(x))\n",
    "        x = nn.functional.log_softmax(self.fc2(x), dim=1)\n",
    "\n",
    "        return x"
   ]
  },
  {
   "cell_type": "code",
   "execution_count": 6,
   "metadata": {},
   "outputs": [
    {
     "name": "stdout",
     "output_type": "stream",
     "text": [
      "Epoch: 0 / loss: 4.4444355964660645\n",
      "Epoch: 1 / loss: 4.368679046630859\n",
      "Epoch: 2 / loss: 3.790904998779297\n",
      "Epoch: 3 / loss: 2.2527310848236084\n",
      "Epoch: 4 / loss: 1.1746814250946045\n",
      "Epoch: 5 / loss: 1.0820286273956299\n",
      "Epoch: 6 / loss: 0.9706239700317383\n",
      "Epoch: 7 / loss: 0.9274231791496277\n",
      "Epoch: 8 / loss: 4.791457653045654\n",
      "Epoch: 9 / loss: 2.871070146560669\n"
     ]
    }
   ],
   "source": [
    "manual_seed(1)\n",
    "model = CNN()\n",
    "trained_model, train_losses = train_cnn(\n",
    "    model=model,\n",
    "    input_tensor=input_images,\n",
    "    output_tensor=output_labels,\n",
    "    epochs=10,\n",
    "    batch_size=batch_size,\n",
    "    lossFunction=nn.CrossEntropyLoss(),\n",
    "    optimizer=optim.Adam(model.parameters(), lr=0.01),\n",
    "    print_loss=True    \n",
    ")"
   ]
  }
 ],
 "metadata": {
  "kernelspec": {
   "display_name": "Python 3",
   "language": "python",
   "name": "python3"
  },
  "language_info": {
   "codemirror_mode": {
    "name": "ipython",
    "version": 3
   },
   "file_extension": ".py",
   "mimetype": "text/x-python",
   "name": "python",
   "nbconvert_exporter": "python",
   "pygments_lexer": "ipython3",
   "version": "3.9.13"
  }
 },
 "nbformat": 4,
 "nbformat_minor": 2
}
