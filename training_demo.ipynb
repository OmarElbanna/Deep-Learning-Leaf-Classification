{
 "cells": [
  {
   "cell_type": "code",
   "execution_count": 1,
   "metadata": {},
   "outputs": [
    {
     "name": "stderr",
     "output_type": "stream",
     "text": [
      "d:\\Downloads\\Python\\Python39\\lib\\site-packages\\tqdm\\auto.py:21: TqdmWarning: IProgress not found. Please update jupyter and ipywidgets. See https://ipywidgets.readthedocs.io/en/stable/user_install.html\n",
      "  from .autonotebook import tqdm as notebook_tqdm\n"
     ]
    }
   ],
   "source": [
    "from Dataset_Loader import load_leafs_dataset\n",
    "from Training import train_cnn\n",
    "from torch import nn, optim, manual_seed"
   ]
  },
  {
   "cell_type": "code",
   "execution_count": 2,
   "metadata": {},
   "outputs": [
    {
     "name": "stdout",
     "output_type": "stream",
     "text": [
      "Reading CSV: 0.254 seconds\n",
      "Encoding Labels: 0.034 seconds\n",
      "Resizing Images: 11.974 seconds\n",
      "Splitting Data: 0.851 seconds\n",
      "Converting To Tensor: 12.139 seconds\n",
      "Dividing To Batches: 0.275 seconds\n"
     ]
    }
   ],
   "source": [
    "batch_size = 20\n",
    "test_split_size = 0.2\n",
    "\n",
    "images_train, images_test, labels_train, labels_test = load_leafs_dataset(\n",
    "    test_split_size,\n",
    "    batch_size \n",
    ")"
   ]
  },
  {
   "cell_type": "code",
   "execution_count": 3,
   "metadata": {},
   "outputs": [],
   "source": [
    "input_images = images_train[:]\n",
    "output_labels = labels_train[:]"
   ]
  },
  {
   "cell_type": "code",
   "execution_count": 4,
   "metadata": {},
   "outputs": [],
   "source": [
    "class CNN(nn.Module):\n",
    "    def __init__(self):\n",
    "        super().__init__()\n",
    "        self.conv1 = nn.Conv2d(in_channels=1, out_channels=6, kernel_size=3, stride=1, padding=0)\n",
    "        self.conv2 = nn.Conv2d(in_channels=6, out_channels=16, kernel_size=3, stride=1)\n",
    "\n",
    "        self.fc1 = nn.Linear(16*49*32, 1000)\n",
    "        self.fc2 = nn.Linear(1000, 99)\n",
    "\n",
    "    def forward(self, x):\n",
    "        x = nn.functional.max_pool2d(x, 2, 2)\n",
    "        x = nn.functional.max_pool2d(x, 2, 2)\n",
    "        x = nn.functional.max_pool2d(x, 2, 2)\n",
    "\n",
    "        x = nn.functional.relu(self.conv1(x))\n",
    "        x = nn.functional.max_pool2d(x, 2, 2)\n",
    "\n",
    "        x = nn.functional.relu(self.conv2(x))\n",
    "        x = nn.functional.max_pool2d(x, 2, 2)\n",
    "\n",
    "        x = x.view(-1, 16*49*32)\n",
    "        x = nn.functional.relu(self.fc1(x))\n",
    "        x = nn.functional.log_softmax(self.fc2(x), dim=1)\n",
    "\n",
    "        return x"
   ]
  },
  {
   "cell_type": "code",
   "execution_count": 5,
   "metadata": {},
   "outputs": [
    {
     "name": "stdout",
     "output_type": "stream",
     "text": [
      "Epoch: 0 / loss: 4.4444355964660645\n",
      "Epoch: 1 / loss: 4.368679046630859\n",
      "Epoch: 2 / loss: 3.790904998779297\n",
      "Epoch: 3 / loss: 2.2527310848236084\n",
      "Epoch: 4 / loss: 1.1746814250946045\n",
      "Epoch: 5 / loss: 1.0820286273956299\n",
      "Epoch: 6 / loss: 0.9706239700317383\n",
      "Epoch: 7 / loss: 0.9274231791496277\n",
      "Epoch: 8 / loss: 4.791457653045654\n",
      "Epoch: 9 / loss: 2.871070146560669\n",
      "Epoch: 10 / loss: 1.8090314865112305\n",
      "Epoch: 11 / loss: 1.0705147981643677\n",
      "Epoch: 12 / loss: 1.1389200687408447\n",
      "Epoch: 13 / loss: 1.0580593347549438\n",
      "Epoch: 14 / loss: 0.8581987619400024\n",
      "Epoch: 15 / loss: 1.0203227996826172\n",
      "Epoch: 16 / loss: 1.2720297574996948\n",
      "Epoch: 17 / loss: 0.5969955325126648\n",
      "Epoch: 18 / loss: 0.7676581144332886\n",
      "Epoch: 19 / loss: 0.20788168907165527\n"
     ]
    }
   ],
   "source": [
    "manual_seed(1)\n",
    "model = CNN()\n",
    "trained_model, train_losses = train_cnn(\n",
    "    model=model,\n",
    "    input_tensor=input_images,\n",
    "    output_tensor=output_labels,\n",
    "    epochs=20,\n",
    "    batch_size=batch_size,\n",
    "    lossFunction=nn.CrossEntropyLoss(),\n",
    "    optimizer=optim.Adam(model.parameters(), lr=0.01),\n",
    "    print_loss=True    \n",
    ")"
   ]
  }
 ],
 "metadata": {
  "kernelspec": {
   "display_name": "Python 3",
   "language": "python",
   "name": "python3"
  },
  "language_info": {
   "codemirror_mode": {
    "name": "ipython",
    "version": 3
   },
   "file_extension": ".py",
   "mimetype": "text/x-python",
   "name": "python",
   "nbconvert_exporter": "python",
   "pygments_lexer": "ipython3",
   "version": "3.9.13"
  }
 },
 "nbformat": 4,
 "nbformat_minor": 2
}
