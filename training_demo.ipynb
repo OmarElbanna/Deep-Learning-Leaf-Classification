{
 "cells": [
  {
   "cell_type": "code",
   "execution_count": 1,
   "metadata": {},
   "outputs": [
    {
     "name": "stderr",
     "output_type": "stream",
     "text": [
      "d:\\Downloads\\Python\\Python39\\lib\\site-packages\\tqdm\\auto.py:21: TqdmWarning: IProgress not found. Please update jupyter and ipywidgets. See https://ipywidgets.readthedocs.io/en/stable/user_install.html\n",
      "  from .autonotebook import tqdm as notebook_tqdm\n"
     ]
    }
   ],
   "source": [
    "from Dataset_Loader import load_leafs_dataset\n",
    "from Training import train_cnn\n",
    "from torch import nn, optim, manual_seed, flatten\n",
    "from Util import apply_conv, apply_pool"
   ]
  },
  {
   "cell_type": "code",
   "execution_count": 2,
   "metadata": {},
   "outputs": [
    {
     "name": "stdout",
     "output_type": "stream",
     "text": [
      "Reading CSV: 0.323 seconds\n",
      "Encoding Labels: 0.021 seconds\n",
      "Resizing Images: 15.539 seconds\n",
      "Splitting Data: 1.922 seconds\n",
      "Converting To Tensor: 19.277 seconds\n",
      "Dividing To Batches: 4.083 seconds\n"
     ]
    }
   ],
   "source": [
    "batch_size = 20\n",
    "test_split_size = 0.2\n",
    "\n",
    "images_train, images_test, labels_train, labels_test = load_leafs_dataset(\n",
    "    test_split_size,\n",
    "    batch_size \n",
    ")"
   ]
  },
  {
   "cell_type": "code",
   "execution_count": 6,
   "metadata": {},
   "outputs": [],
   "source": [
    "input_images = images_train[:]\n",
    "output_labels = labels_train[:]"
   ]
  },
  {
   "cell_type": "code",
   "execution_count": 7,
   "metadata": {},
   "outputs": [],
   "source": [
    "class CNN(nn.Module):\n",
    "    def __init__(self):\n",
    "        super().__init__()\n",
    "        width = 1633\n",
    "        height = 1089\n",
    "        self.dropout = nn.Dropout(0.2)\n",
    "\n",
    "        self.pool1, width, height = apply_pool(width, height, kernel_size=2, stride=2)\n",
    "        self.pool2, width, height = apply_pool(width, height, kernel_size=2, stride=2)\n",
    "        self.pool3, width, height = apply_pool(width, height, kernel_size=2, stride=2)\n",
    "    \n",
    "        self.conv1, width, height = apply_conv(width, height, 1, 6, kernel_size=3, stride=1, padding=0)\n",
    "        self.pool4, width, height = apply_pool(width, height, kernel_size=2, stride=2)\n",
    "\n",
    "        self.conv2, width, height = apply_conv(width, height, 6, 16, kernel_size=3, stride=1, padding=0)\n",
    "        self.pool5, width, height = apply_pool(width, height, kernel_size=2, stride=2)\n",
    "\n",
    "        self.fc1 = nn.Linear(16*width*height, 1000)\n",
    "        self.fc2 = nn.Linear(1000, 99)\n",
    "\n",
    "    def forward(self, x):\n",
    "        x = self.pool1(x)\n",
    "        x = self.pool2(x)\n",
    "        x = self.pool3(x)\n",
    "\n",
    "        x = nn.functional.relu(self.conv1(x))\n",
    "        x = self.pool4(x)\n",
    "\n",
    "        x = nn.functional.relu(self.conv2(x))\n",
    "        x = self.pool5(x)\n",
    "\n",
    "        x = flatten(x, 1)\n",
    "        x = nn.functional.relu(self.fc1(x))\n",
    "        # x = self.dropout(x)\n",
    "        x = nn.functional.log_softmax(self.fc2(x), dim=1)\n",
    "        # x = self.dropout(x)\n",
    "        return x"
   ]
  },
  {
   "cell_type": "code",
   "execution_count": 8,
   "metadata": {},
   "outputs": [
    {
     "name": "stdout",
     "output_type": "stream",
     "text": [
      "Epoch: 0 / loss: 6.973670959472656\n",
      "Epoch: 1 / loss: 7.638968467712402\n",
      "Epoch: 2 / loss: 7.086106777191162\n",
      "Epoch: 3 / loss: 6.45104455947876\n",
      "Epoch: 4 / loss: 6.630302429199219\n",
      "Epoch: 5 / loss: 6.785460472106934\n",
      "Epoch: 6 / loss: 7.629644870758057\n",
      "Epoch: 7 / loss: 6.116540908813477\n",
      "Epoch: 8 / loss: 6.517845153808594\n",
      "Epoch: 9 / loss: 6.269039154052734\n",
      "Epoch: 10 / loss: 5.8372578620910645\n",
      "Epoch: 11 / loss: 5.567553520202637\n",
      "Epoch: 12 / loss: 6.417655944824219\n",
      "Epoch: 13 / loss: 6.045745849609375\n",
      "Epoch: 14 / loss: 6.50205135345459\n"
     ]
    }
   ],
   "source": [
    "manual_seed(1)\n",
    "model = CNN()\n",
    "trained_model, train_losses = train_cnn(\n",
    "    model=model,\n",
    "    input_tensor=input_images,\n",
    "    output_tensor=output_labels,\n",
    "    epochs=15,\n",
    "    batch_size=batch_size,\n",
    "    lossFunction=nn.CrossEntropyLoss(),\n",
    "    optimizer=optim.Adam(model.parameters(), lr=0.01, weight_decay=0.1),\n",
    "    print_loss=True    \n",
    ")"
   ]
  }
 ],
 "metadata": {
  "kernelspec": {
   "display_name": "Python 3",
   "language": "python",
   "name": "python3"
  },
  "language_info": {
   "codemirror_mode": {
    "name": "ipython",
    "version": 3
   },
   "file_extension": ".py",
   "mimetype": "text/x-python",
   "name": "python",
   "nbconvert_exporter": "python",
   "pygments_lexer": "ipython3",
   "version": "3.9.13"
  }
 },
 "nbformat": 4,
 "nbformat_minor": 2
}
